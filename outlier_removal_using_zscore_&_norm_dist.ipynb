{
  "nbformat": 4,
  "nbformat_minor": 0,
  "metadata": {
    "colab": {
      "name": "outlier_removal_using_zscore_&_norm_dist.ipynb",
      "provenance": [],
      "authorship_tag": "ABX9TyMeGqIKVq6+R3XnYuAhRnaJ",
      "include_colab_link": true
    },
    "kernelspec": {
      "name": "python3",
      "display_name": "Python 3"
    },
    "language_info": {
      "name": "python"
    }
  },
  "cells": [
    {
      "cell_type": "markdown",
      "metadata": {
        "id": "view-in-github",
        "colab_type": "text"
      },
      "source": [
        "<a href=\"https://colab.research.google.com/github/Mhtag/applied_statistics/blob/main/outlier_removal_using_zscore_%26_norm_dist.ipynb\" target=\"_parent\"><img src=\"https://colab.research.google.com/assets/colab-badge.svg\" alt=\"Open In Colab\"/></a>"
      ]
    },
    {
      "cell_type": "code",
      "metadata": {
        "id": "KJFPRIE9qJxC"
      },
      "source": [
        "import pandas as pd\n",
        "import matplotlib.pyplot as plt\n",
        "import seaborn as sns"
      ],
      "execution_count": 1,
      "outputs": []
    },
    {
      "cell_type": "markdown",
      "metadata": {
        "id": "7KisT5vortBJ"
      },
      "source": [
        "we will use a height column from a dataset and see it normal distribution and remove outliers"
      ]
    },
    {
      "cell_type": "code",
      "metadata": {
        "colab": {
          "base_uri": "https://localhost:8080/",
          "height": 203
        },
        "id": "FYHUoDl0rq2b",
        "outputId": "927a8186-688f-46f8-f2c7-f448cdbcf4b2"
      },
      "source": [
        "df = pd.read_csv('https://raw.githubusercontent.com/codebasics/math-for-machine-learning/main/3_normal_distribution/heights.csv')\n",
        "df.head()"
      ],
      "execution_count": 2,
      "outputs": [
        {
          "output_type": "execute_result",
          "data": {
            "text/html": [
              "<div>\n",
              "<style scoped>\n",
              "    .dataframe tbody tr th:only-of-type {\n",
              "        vertical-align: middle;\n",
              "    }\n",
              "\n",
              "    .dataframe tbody tr th {\n",
              "        vertical-align: top;\n",
              "    }\n",
              "\n",
              "    .dataframe thead th {\n",
              "        text-align: right;\n",
              "    }\n",
              "</style>\n",
              "<table border=\"1\" class=\"dataframe\">\n",
              "  <thead>\n",
              "    <tr style=\"text-align: right;\">\n",
              "      <th></th>\n",
              "      <th>gender</th>\n",
              "      <th>height</th>\n",
              "    </tr>\n",
              "  </thead>\n",
              "  <tbody>\n",
              "    <tr>\n",
              "      <th>0</th>\n",
              "      <td>Male</td>\n",
              "      <td>73.847017</td>\n",
              "    </tr>\n",
              "    <tr>\n",
              "      <th>1</th>\n",
              "      <td>Male</td>\n",
              "      <td>68.781904</td>\n",
              "    </tr>\n",
              "    <tr>\n",
              "      <th>2</th>\n",
              "      <td>Male</td>\n",
              "      <td>74.110105</td>\n",
              "    </tr>\n",
              "    <tr>\n",
              "      <th>3</th>\n",
              "      <td>Male</td>\n",
              "      <td>71.730978</td>\n",
              "    </tr>\n",
              "    <tr>\n",
              "      <th>4</th>\n",
              "      <td>Male</td>\n",
              "      <td>69.881796</td>\n",
              "    </tr>\n",
              "  </tbody>\n",
              "</table>\n",
              "</div>"
            ],
            "text/plain": [
              "  gender     height\n",
              "0   Male  73.847017\n",
              "1   Male  68.781904\n",
              "2   Male  74.110105\n",
              "3   Male  71.730978\n",
              "4   Male  69.881796"
            ]
          },
          "metadata": {},
          "execution_count": 2
        }
      ]
    },
    {
      "cell_type": "code",
      "metadata": {
        "colab": {
          "base_uri": "https://localhost:8080/"
        },
        "id": "8FuiNtkPDBAD",
        "outputId": "a5def82a-484d-45fb-e57e-6ed40e4b4a52"
      },
      "source": [
        "df.shape"
      ],
      "execution_count": 11,
      "outputs": [
        {
          "output_type": "execute_result",
          "data": {
            "text/plain": [
              "(10000, 2)"
            ]
          },
          "metadata": {},
          "execution_count": 11
        }
      ]
    },
    {
      "cell_type": "code",
      "metadata": {
        "id": "DTIYh1L-sVpF",
        "colab": {
          "base_uri": "https://localhost:8080/",
          "height": 296
        },
        "outputId": "2abd5776-3844-40a7-8d19-419de666ef42"
      },
      "source": [
        "sns.histplot(df.height, kde=True)"
      ],
      "execution_count": 7,
      "outputs": [
        {
          "output_type": "execute_result",
          "data": {
            "text/plain": [
              "<matplotlib.axes._subplots.AxesSubplot at 0x7fe5d61b6cd0>"
            ]
          },
          "metadata": {},
          "execution_count": 7
        },
        {
          "output_type": "display_data",
          "data": {
            "image/png": "[encoded data removed]",
            "text/plain": [
              "<Figure size 432x288 with 1 Axes>"
            ]
          },
          "metadata": {
            "needs_background": "light"
          }
        }
      ]
    },
    {
      "cell_type": "code",
      "metadata": {
        "colab": {
          "base_uri": "https://localhost:8080/"
        },
        "id": "B2mIpqbTBO54",
        "outputId": "00cb28e1-d797-4883-c7d1-f095c3f9a9cb"
      },
      "source": [
        "# Mean of our height dataset\n",
        "mean = df.height.mean()\n",
        "mean"
      ],
      "execution_count": 5,
      "outputs": [
        {
          "output_type": "execute_result",
          "data": {
            "text/plain": [
              "66.3675597548656"
            ]
          },
          "metadata": {},
          "execution_count": 5
        }
      ]
    },
    {
      "cell_type": "code",
      "metadata": {
        "colab": {
          "base_uri": "https://localhost:8080/"
        },
        "id": "zqyUCZ8WBd6o",
        "outputId": "2e7ee94c-4709-4da9-b1b9-dfc3467a467a"
      },
      "source": [
        "# Standard deviation of our dataset\n",
        "std_dev = df.height.std()\n",
        "std_dev"
      ],
      "execution_count": 6,
      "outputs": [
        {
          "output_type": "execute_result",
          "data": {
            "text/plain": [
              "3.847528120795573"
            ]
          },
          "metadata": {},
          "execution_count": 6
        }
      ]
    },
    {
      "cell_type": "code",
      "metadata": {
        "colab": {
          "base_uri": "https://localhost:8080/"
        },
        "id": "ErS0SrOvCBbp",
        "outputId": "2bef42b1-6b73-4538-cefa-adffbe1a43af"
      },
      "source": [
        "mean - 3*std_dev"
      ],
      "execution_count": 8,
      "outputs": [
        {
          "output_type": "execute_result",
          "data": {
            "text/plain": [
              "54.824975392478876"
            ]
          },
          "metadata": {},
          "execution_count": 8
        }
      ]
    },
    {
      "cell_type": "code",
      "metadata": {
        "colab": {
          "base_uri": "https://localhost:8080/"
        },
        "id": "iHTTQ0P0CWI3",
        "outputId": "b8fca84c-f5d5-4571-edad-9ec0bf874182"
      },
      "source": [
        "mean + 3*std_dev"
      ],
      "execution_count": 9,
      "outputs": [
        {
          "output_type": "execute_result",
          "data": {
            "text/plain": [
              "77.91014411725232"
            ]
          },
          "metadata": {},
          "execution_count": 9
        }
      ]
    },
    {
      "cell_type": "code",
      "metadata": {
        "colab": {
          "base_uri": "https://localhost:8080/",
          "height": 265
        },
        "id": "G03129JcCfw4",
        "outputId": "7da7b0a2-f06e-49c3-ccca-3dcadd51d976"
      },
      "source": [
        "df[(df.height < 54.82) | (df.height > 77.91)]"
      ],
      "execution_count": 10,
      "outputs": [
        {
          "output_type": "execute_result",
          "data": {
            "text/html": [
              "<div>\n",
              "<style scoped>\n",
              "    .dataframe tbody tr th:only-of-type {\n",
              "        vertical-align: middle;\n",
              "    }\n",
              "\n",
              "    .dataframe tbody tr th {\n",
              "        vertical-align: top;\n",
              "    }\n",
              "\n",
              "    .dataframe thead th {\n",
              "        text-align: right;\n",
              "    }\n",
              "</style>\n",
              "<table border=\"1\" class=\"dataframe\">\n",
              "  <thead>\n",
              "    <tr style=\"text-align: right;\">\n",
              "      <th></th>\n",
              "      <th>gender</th>\n",
              "      <th>height</th>\n",
              "    </tr>\n",
              "  </thead>\n",
              "  <tbody>\n",
              "    <tr>\n",
              "      <th>994</th>\n",
              "      <td>Male</td>\n",
              "      <td>78.095867</td>\n",
              "    </tr>\n",
              "    <tr>\n",
              "      <th>1317</th>\n",
              "      <td>Male</td>\n",
              "      <td>78.462053</td>\n",
              "    </tr>\n",
              "    <tr>\n",
              "      <th>2014</th>\n",
              "      <td>Male</td>\n",
              "      <td>78.998742</td>\n",
              "    </tr>\n",
              "    <tr>\n",
              "      <th>3285</th>\n",
              "      <td>Male</td>\n",
              "      <td>78.528210</td>\n",
              "    </tr>\n",
              "    <tr>\n",
              "      <th>3757</th>\n",
              "      <td>Male</td>\n",
              "      <td>78.621374</td>\n",
              "    </tr>\n",
              "    <tr>\n",
              "      <th>6624</th>\n",
              "      <td>Female</td>\n",
              "      <td>54.616858</td>\n",
              "    </tr>\n",
              "    <tr>\n",
              "      <th>9285</th>\n",
              "      <td>Female</td>\n",
              "      <td>54.263133</td>\n",
              "    </tr>\n",
              "  </tbody>\n",
              "</table>\n",
              "</div>"
            ],
            "text/plain": [
              "      gender     height\n",
              "994     Male  78.095867\n",
              "1317    Male  78.462053\n",
              "2014    Male  78.998742\n",
              "3285    Male  78.528210\n",
              "3757    Male  78.621374\n",
              "6624  Female  54.616858\n",
              "9285  Female  54.263133"
            ]
          },
          "metadata": {},
          "execution_count": 10
        }
      ]
    },
    {
      "cell_type": "code",
      "metadata": {
        "colab": {
          "base_uri": "https://localhost:8080/"
        },
        "id": "urIp2WgaC5i3",
        "outputId": "d30349dd-b22f-4867-bfe1-108889ca4b11"
      },
      "source": [
        "df_no_outlier = df[(df.height > 54.82) & (df.height < 77.91)]\n",
        "df_no_outlier.shape"
      ],
      "execution_count": 15,
      "outputs": [
        {
          "output_type": "execute_result",
          "data": {
            "text/plain": [
              "(9993, 2)"
            ]
          },
          "metadata": {},
          "execution_count": 15
        }
      ]
    },
    {
      "cell_type": "markdown",
      "metadata": {
        "id": "AUeQodElERRN"
      },
      "source": [
        "## Outlier removal using Z score\n",
        "\n",
        "Z score is a way to achieve same thing that we did above in part (1)\n",
        "\n",
        "Z score indicates how many standard deviation away a data point is.\n",
        "\n",
        "\n",
        "   \n"
      ]
    },
    {
      "cell_type": "code",
      "metadata": {
        "colab": {
          "base_uri": "https://localhost:8080/",
          "height": 203
        },
        "id": "EzLLUfSKEHSa",
        "outputId": "31ea26de-3078-4470-aab7-e4365a872f0d"
      },
      "source": [
        "df['z_score'] = (df.height - df.height.mean())/df.height.std()\n",
        "df.head()"
      ],
      "execution_count": 16,
      "outputs": [
        {
          "output_type": "execute_result",
          "data": {
            "text/html": [
              "<div>\n",
              "<style scoped>\n",
              "    .dataframe tbody tr th:only-of-type {\n",
              "        vertical-align: middle;\n",
              "    }\n",
              "\n",
              "    .dataframe tbody tr th {\n",
              "        vertical-align: top;\n",
              "    }\n",
              "\n",
              "    .dataframe thead th {\n",
              "        text-align: right;\n",
              "    }\n",
              "</style>\n",
              "<table border=\"1\" class=\"dataframe\">\n",
              "  <thead>\n",
              "    <tr style=\"text-align: right;\">\n",
              "      <th></th>\n",
              "      <th>gender</th>\n",
              "      <th>height</th>\n",
              "      <th>z_score</th>\n",
              "    </tr>\n",
              "  </thead>\n",
              "  <tbody>\n",
              "    <tr>\n",
              "      <th>0</th>\n",
              "      <td>Male</td>\n",
              "      <td>73.847017</td>\n",
              "      <td>1.943964</td>\n",
              "    </tr>\n",
              "    <tr>\n",
              "      <th>1</th>\n",
              "      <td>Male</td>\n",
              "      <td>68.781904</td>\n",
              "      <td>0.627505</td>\n",
              "    </tr>\n",
              "    <tr>\n",
              "      <th>2</th>\n",
              "      <td>Male</td>\n",
              "      <td>74.110105</td>\n",
              "      <td>2.012343</td>\n",
              "    </tr>\n",
              "    <tr>\n",
              "      <th>3</th>\n",
              "      <td>Male</td>\n",
              "      <td>71.730978</td>\n",
              "      <td>1.393991</td>\n",
              "    </tr>\n",
              "    <tr>\n",
              "      <th>4</th>\n",
              "      <td>Male</td>\n",
              "      <td>69.881796</td>\n",
              "      <td>0.913375</td>\n",
              "    </tr>\n",
              "  </tbody>\n",
              "</table>\n",
              "</div>"
            ],
            "text/plain": [
              "  gender     height   z_score\n",
              "0   Male  73.847017  1.943964\n",
              "1   Male  68.781904  0.627505\n",
              "2   Male  74.110105  2.012343\n",
              "3   Male  71.730978  1.393991\n",
              "4   Male  69.881796  0.913375"
            ]
          },
          "metadata": {},
          "execution_count": 16
        }
      ]
    },
    {
      "cell_type": "code",
      "metadata": {
        "colab": {
          "base_uri": "https://localhost:8080/",
          "height": 265
        },
        "id": "uQuR1y1rG2NC",
        "outputId": "c2b1d6a7-3f7d-48b5-d438-a425028120a7"
      },
      "source": [
        "df[(df.z_score > 3.0) | (df.z_score < -3.0)]"
      ],
      "execution_count": 17,
      "outputs": [
        {
          "output_type": "execute_result",
          "data": {
            "text/html": [
              "<div>\n",
              "<style scoped>\n",
              "    .dataframe tbody tr th:only-of-type {\n",
              "        vertical-align: middle;\n",
              "    }\n",
              "\n",
              "    .dataframe tbody tr th {\n",
              "        vertical-align: top;\n",
              "    }\n",
              "\n",
              "    .dataframe thead th {\n",
              "        text-align: right;\n",
              "    }\n",
              "</style>\n",
              "<table border=\"1\" class=\"dataframe\">\n",
              "  <thead>\n",
              "    <tr style=\"text-align: right;\">\n",
              "      <th></th>\n",
              "      <th>gender</th>\n",
              "      <th>height</th>\n",
              "      <th>z_score</th>\n",
              "    </tr>\n",
              "  </thead>\n",
              "  <tbody>\n",
              "    <tr>\n",
              "      <th>994</th>\n",
              "      <td>Male</td>\n",
              "      <td>78.095867</td>\n",
              "      <td>3.048271</td>\n",
              "    </tr>\n",
              "    <tr>\n",
              "      <th>1317</th>\n",
              "      <td>Male</td>\n",
              "      <td>78.462053</td>\n",
              "      <td>3.143445</td>\n",
              "    </tr>\n",
              "    <tr>\n",
              "      <th>2014</th>\n",
              "      <td>Male</td>\n",
              "      <td>78.998742</td>\n",
              "      <td>3.282934</td>\n",
              "    </tr>\n",
              "    <tr>\n",
              "      <th>3285</th>\n",
              "      <td>Male</td>\n",
              "      <td>78.528210</td>\n",
              "      <td>3.160640</td>\n",
              "    </tr>\n",
              "    <tr>\n",
              "      <th>3757</th>\n",
              "      <td>Male</td>\n",
              "      <td>78.621374</td>\n",
              "      <td>3.184854</td>\n",
              "    </tr>\n",
              "    <tr>\n",
              "      <th>6624</th>\n",
              "      <td>Female</td>\n",
              "      <td>54.616858</td>\n",
              "      <td>-3.054091</td>\n",
              "    </tr>\n",
              "    <tr>\n",
              "      <th>9285</th>\n",
              "      <td>Female</td>\n",
              "      <td>54.263133</td>\n",
              "      <td>-3.146027</td>\n",
              "    </tr>\n",
              "  </tbody>\n",
              "</table>\n",
              "</div>"
            ],
            "text/plain": [
              "      gender     height   z_score\n",
              "994     Male  78.095867  3.048271\n",
              "1317    Male  78.462053  3.143445\n",
              "2014    Male  78.998742  3.282934\n",
              "3285    Male  78.528210  3.160640\n",
              "3757    Male  78.621374  3.184854\n",
              "6624  Female  54.616858 -3.054091\n",
              "9285  Female  54.263133 -3.146027"
            ]
          },
          "metadata": {},
          "execution_count": 17
        }
      ]
    },
    {
      "cell_type": "code",
      "metadata": {
        "colab": {
          "base_uri": "https://localhost:8080/"
        },
        "id": "--TttKBdHOhJ",
        "outputId": "defde401-eda4-4169-fa3a-5997282ac41c"
      },
      "source": [
        "df_no_outlier = df[(df.z_score < 3.0) & (df.z_score > -3.0)]\n",
        "df_no_outlier.shape"
      ],
      "execution_count": 18,
      "outputs": [
        {
          "output_type": "execute_result",
          "data": {
            "text/plain": [
              "(9993, 3)"
            ]
          },
          "metadata": {},
          "execution_count": 18
        }
      ]
    },
    {
      "cell_type": "markdown",
      "metadata": {
        "id": "gpVdP7_nIMEZ"
      },
      "source": [
        "\n",
        "# Exercise\n",
        "You are given bhp.csv which contains property prices in the city of banglore, India. You need to examine price_per_sqft column and do following,\n",
        "\n",
        "(1) Remove outliers using percentile technique first. Use [0.001, 0.999] for lower and upper bound percentiles\n",
        "\n",
        "(2) After removing outliers in step 1, you get a new dataframe.\n",
        "\n",
        "(3) On step(2) dataframe, use 4 standard deviation to remove outliers\n",
        "\n",
        "(4) Plot histogram for new dataframe that is generated after step (3). Also plot bell curve on same histogram\n",
        "\n",
        "(5) On step(2) dataframe, use zscore of 4 to remove outliers. This is quite similar to step (3) and you will get exact same result"
      ]
    },
    {
      "cell_type": "code",
      "metadata": {
        "colab": {
          "base_uri": "https://localhost:8080/",
          "height": 203
        },
        "id": "UFzbNK2tHoD_",
        "outputId": "4f1134c8-a7ad-4449-eecf-97844276c0e7"
      },
      "source": [
        "df = pd.read_csv('https://raw.githubusercontent.com/codebasics/math-for-machine-learning/main/3_normal_distribution/Exercise/bhp.csv')\n",
        "df.head()"
      ],
      "execution_count": 19,
      "outputs": [
        {
          "output_type": "execute_result",
          "data": {
            "text/html": [
              "<div>\n",
              "<style scoped>\n",
              "    .dataframe tbody tr th:only-of-type {\n",
              "        vertical-align: middle;\n",
              "    }\n",
              "\n",
              "    .dataframe tbody tr th {\n",
              "        vertical-align: top;\n",
              "    }\n",
              "\n",
              "    .dataframe thead th {\n",
              "        text-align: right;\n",
              "    }\n",
              "</style>\n",
              "<table border=\"1\" class=\"dataframe\">\n",
              "  <thead>\n",
              "    <tr style=\"text-align: right;\">\n",
              "      <th></th>\n",
              "      <th>location</th>\n",
              "      <th>size</th>\n",
              "      <th>total_sqft</th>\n",
              "      <th>bath</th>\n",
              "      <th>price</th>\n",
              "      <th>bhk</th>\n",
              "      <th>price_per_sqft</th>\n",
              "    </tr>\n",
              "  </thead>\n",
              "  <tbody>\n",
              "    <tr>\n",
              "      <th>0</th>\n",
              "      <td>Electronic City Phase II</td>\n",
              "      <td>2 BHK</td>\n",
              "      <td>1056.0</td>\n",
              "      <td>2.0</td>\n",
              "      <td>39.07</td>\n",
              "      <td>2</td>\n",
              "      <td>3699</td>\n",
              "    </tr>\n",
              "    <tr>\n",
              "      <th>1</th>\n",
              "      <td>Chikka Tirupathi</td>\n",
              "      <td>4 Bedroom</td>\n",
              "      <td>2600.0</td>\n",
              "      <td>5.0</td>\n",
              "      <td>120.00</td>\n",
              "      <td>4</td>\n",
              "      <td>4615</td>\n",
              "    </tr>\n",
              "    <tr>\n",
              "      <th>2</th>\n",
              "      <td>Uttarahalli</td>\n",
              "      <td>3 BHK</td>\n",
              "      <td>1440.0</td>\n",
              "      <td>2.0</td>\n",
              "      <td>62.00</td>\n",
              "      <td>3</td>\n",
              "      <td>4305</td>\n",
              "    </tr>\n",
              "    <tr>\n",
              "      <th>3</th>\n",
              "      <td>Lingadheeranahalli</td>\n",
              "      <td>3 BHK</td>\n",
              "      <td>1521.0</td>\n",
              "      <td>3.0</td>\n",
              "      <td>95.00</td>\n",
              "      <td>3</td>\n",
              "      <td>6245</td>\n",
              "    </tr>\n",
              "    <tr>\n",
              "      <th>4</th>\n",
              "      <td>Kothanur</td>\n",
              "      <td>2 BHK</td>\n",
              "      <td>1200.0</td>\n",
              "      <td>2.0</td>\n",
              "      <td>51.00</td>\n",
              "      <td>2</td>\n",
              "      <td>4250</td>\n",
              "    </tr>\n",
              "  </tbody>\n",
              "</table>\n",
              "</div>"
            ],
            "text/plain": [
              "                   location       size  total_sqft  ...   price  bhk  price_per_sqft\n",
              "0  Electronic City Phase II      2 BHK      1056.0  ...   39.07    2            3699\n",
              "1          Chikka Tirupathi  4 Bedroom      2600.0  ...  120.00    4            4615\n",
              "2               Uttarahalli      3 BHK      1440.0  ...   62.00    3            4305\n",
              "3        Lingadheeranahalli      3 BHK      1521.0  ...   95.00    3            6245\n",
              "4                  Kothanur      2 BHK      1200.0  ...   51.00    2            4250\n",
              "\n",
              "[5 rows x 7 columns]"
            ]
          },
          "metadata": {},
          "execution_count": 19
        }
      ]
    },
    {
      "cell_type": "code",
      "metadata": {
        "colab": {
          "base_uri": "https://localhost:8080/"
        },
        "id": "q_Q6mGb7IywA",
        "outputId": "c0a230c1-0f4d-460a-ee79-71b296e54652"
      },
      "source": [
        "df.shape"
      ],
      "execution_count": 20,
      "outputs": [
        {
          "output_type": "execute_result",
          "data": {
            "text/plain": [
              "(13200, 7)"
            ]
          },
          "metadata": {},
          "execution_count": 20
        }
      ]
    },
    {
      "cell_type": "code",
      "metadata": {
        "colab": {
          "base_uri": "https://localhost:8080/",
          "height": 295
        },
        "id": "9oGmhSa9I8V4",
        "outputId": "62d8b2fc-691d-47ea-d8df-739075bb8155"
      },
      "source": [
        "df.describe()"
      ],
      "execution_count": 22,
      "outputs": [
        {
          "output_type": "execute_result",
          "data": {
            "text/html": [
              "<div>\n",
              "<style scoped>\n",
              "    .dataframe tbody tr th:only-of-type {\n",
              "        vertical-align: middle;\n",
              "    }\n",
              "\n",
              "    .dataframe tbody tr th {\n",
              "        vertical-align: top;\n",
              "    }\n",
              "\n",
              "    .dataframe thead th {\n",
              "        text-align: right;\n",
              "    }\n",
              "</style>\n",
              "<table border=\"1\" class=\"dataframe\">\n",
              "  <thead>\n",
              "    <tr style=\"text-align: right;\">\n",
              "      <th></th>\n",
              "      <th>total_sqft</th>\n",
              "      <th>bath</th>\n",
              "      <th>price</th>\n",
              "      <th>bhk</th>\n",
              "      <th>price_per_sqft</th>\n",
              "    </tr>\n",
              "  </thead>\n",
              "  <tbody>\n",
              "    <tr>\n",
              "      <th>count</th>\n",
              "      <td>13200.000000</td>\n",
              "      <td>13200.000000</td>\n",
              "      <td>13200.000000</td>\n",
              "      <td>13200.000000</td>\n",
              "      <td>1.320000e+04</td>\n",
              "    </tr>\n",
              "    <tr>\n",
              "      <th>mean</th>\n",
              "      <td>1555.302783</td>\n",
              "      <td>2.691136</td>\n",
              "      <td>112.276178</td>\n",
              "      <td>2.800833</td>\n",
              "      <td>7.920337e+03</td>\n",
              "    </tr>\n",
              "    <tr>\n",
              "      <th>std</th>\n",
              "      <td>1237.323445</td>\n",
              "      <td>1.338915</td>\n",
              "      <td>149.175995</td>\n",
              "      <td>1.292843</td>\n",
              "      <td>1.067272e+05</td>\n",
              "    </tr>\n",
              "    <tr>\n",
              "      <th>min</th>\n",
              "      <td>1.000000</td>\n",
              "      <td>1.000000</td>\n",
              "      <td>8.000000</td>\n",
              "      <td>1.000000</td>\n",
              "      <td>2.670000e+02</td>\n",
              "    </tr>\n",
              "    <tr>\n",
              "      <th>25%</th>\n",
              "      <td>1100.000000</td>\n",
              "      <td>2.000000</td>\n",
              "      <td>50.000000</td>\n",
              "      <td>2.000000</td>\n",
              "      <td>4.267000e+03</td>\n",
              "    </tr>\n",
              "    <tr>\n",
              "      <th>50%</th>\n",
              "      <td>1275.000000</td>\n",
              "      <td>2.000000</td>\n",
              "      <td>71.850000</td>\n",
              "      <td>3.000000</td>\n",
              "      <td>5.438000e+03</td>\n",
              "    </tr>\n",
              "    <tr>\n",
              "      <th>75%</th>\n",
              "      <td>1672.000000</td>\n",
              "      <td>3.000000</td>\n",
              "      <td>120.000000</td>\n",
              "      <td>3.000000</td>\n",
              "      <td>7.317000e+03</td>\n",
              "    </tr>\n",
              "    <tr>\n",
              "      <th>max</th>\n",
              "      <td>52272.000000</td>\n",
              "      <td>40.000000</td>\n",
              "      <td>3600.000000</td>\n",
              "      <td>43.000000</td>\n",
              "      <td>1.200000e+07</td>\n",
              "    </tr>\n",
              "  </tbody>\n",
              "</table>\n",
              "</div>"
            ],
            "text/plain": [
              "         total_sqft          bath         price           bhk  price_per_sqft\n",
              "count  13200.000000  13200.000000  13200.000000  13200.000000    1.320000e+04\n",
              "mean    1555.302783      2.691136    112.276178      2.800833    7.920337e+03\n",
              "std     1237.323445      1.338915    149.175995      1.292843    1.067272e+05\n",
              "min        1.000000      1.000000      8.000000      1.000000    2.670000e+02\n",
              "25%     1100.000000      2.000000     50.000000      2.000000    4.267000e+03\n",
              "50%     1275.000000      2.000000     71.850000      3.000000    5.438000e+03\n",
              "75%     1672.000000      3.000000    120.000000      3.000000    7.317000e+03\n",
              "max    52272.000000     40.000000   3600.000000     43.000000    1.200000e+07"
            ]
          },
          "metadata": {},
          "execution_count": 22
        }
      ]
    },
    {
      "cell_type": "code",
      "metadata": {
        "colab": {
          "base_uri": "https://localhost:8080/",
          "height": 296
        },
        "id": "ubrECk12I_XQ",
        "outputId": "c5ec1f07-08de-475d-a877-1f2aaf503ce6"
      },
      "source": [
        "plt.hist(df.price_per_sqft, bins=20)\n",
        "plt.xlabel('price per sqft')\n",
        "plt.ylabel('count')"
      ],
      "execution_count": 26,
      "outputs": [
        {
          "output_type": "execute_result",
          "data": {
            "text/plain": [
              "Text(0, 0.5, 'count')"
            ]
          },
          "metadata": {},
          "execution_count": 26
        },
        {
          "output_type": "display_data",
          "data": {
            "image/png": "[encoded data removed]",
            "text/plain": [
              "<Figure size 432x288 with 1 Axes>"
            ]
          },
          "metadata": {
            "needs_background": "light"
          }
        }
      ]
    },
    {
      "cell_type": "markdown",
      "metadata": {
        "id": "GpzvdomgKiZb"
      },
      "source": [
        "we can see that this data has some bad outliers, because we only see one bar with 12000 points, but on the right hand of the data there are lots of data but there value is negligible as compared to 12000, hence we hardly can see any bar."
      ]
    },
    {
      "cell_type": "markdown",
      "metadata": {
        "id": "JP56iywYMHtl"
      },
      "source": [
        "**Using log scale to make visualization better**"
      ]
    },
    {
      "cell_type": "code",
      "metadata": {
        "colab": {
          "base_uri": "https://localhost:8080/",
          "height": 279
        },
        "id": "uh2TIkQuJcyI",
        "outputId": "00f59bea-f161-47df-8c0e-cb83c378a3bd"
      },
      "source": [
        "plt.hist(df.price_per_sqft, bins=20)\n",
        "plt.xlabel('price per sqft')\n",
        "plt.ylabel('count')\n",
        "plt.yscale('log')\n",
        "plt.show()"
      ],
      "execution_count": 27,
      "outputs": [
        {
          "output_type": "display_data",
          "data": {
            "image/png": "[encoded data removed]",
            "text/plain": [
              "<Figure size 432x288 with 1 Axes>"
            ]
          },
          "metadata": {
            "needs_background": "light"
          }
        }
      ]
    },
    {
      "cell_type": "markdown",
      "metadata": {
        "id": "AV2MOdqgMZEC"
      },
      "source": [
        "## Treat Outlier Using Quantile"
      ]
    },
    {
      "cell_type": "code",
      "metadata": {
        "colab": {
          "base_uri": "https://localhost:8080/"
        },
        "id": "zA3NAYNwMCfh",
        "outputId": "40c58c33-afff-48a2-fbde-50dcc24971fe"
      },
      "source": [
        "lower_limit, upper_limit = df.price_per_sqft.quantile([0.001,0.999])\n",
        "lower_limit, upper_limit"
      ],
      "execution_count": 28,
      "outputs": [
        {
          "output_type": "execute_result",
          "data": {
            "text/plain": [
              "(1366.184, 50959.36200000099)"
            ]
          },
          "metadata": {},
          "execution_count": 28
        }
      ]
    },
    {
      "cell_type": "code",
      "metadata": {
        "colab": {
          "base_uri": "https://localhost:8080/",
          "height": 911
        },
        "id": "Y8K0yTmiM74K",
        "outputId": "c33ae600-9da5-482a-b470-3c7280e69a7a"
      },
      "source": [
        "df[(df.price_per_sqft < lower_limit) | (df.price_per_sqft > upper_limit)]"
      ],
      "execution_count": 30,
      "outputs": [
        {
          "output_type": "execute_result",
          "data": {
            "text/html": [
              "<div>\n",
              "<style scoped>\n",
              "    .dataframe tbody tr th:only-of-type {\n",
              "        vertical-align: middle;\n",
              "    }\n",
              "\n",
              "    .dataframe tbody tr th {\n",
              "        vertical-align: top;\n",
              "    }\n",
              "\n",
              "    .dataframe thead th {\n",
              "        text-align: right;\n",
              "    }\n",
              "</style>\n",
              "<table border=\"1\" class=\"dataframe\">\n",
              "  <thead>\n",
              "    <tr style=\"text-align: right;\">\n",
              "      <th></th>\n",
              "      <th>location</th>\n",
              "      <th>size</th>\n",
              "      <th>total_sqft</th>\n",
              "      <th>bath</th>\n",
              "      <th>price</th>\n",
              "      <th>bhk</th>\n",
              "      <th>price_per_sqft</th>\n",
              "    </tr>\n",
              "  </thead>\n",
              "  <tbody>\n",
              "    <tr>\n",
              "      <th>345</th>\n",
              "      <td>other</td>\n",
              "      <td>3 Bedroom</td>\n",
              "      <td>11.0</td>\n",
              "      <td>3.0</td>\n",
              "      <td>74.0</td>\n",
              "      <td>3</td>\n",
              "      <td>672727</td>\n",
              "    </tr>\n",
              "    <tr>\n",
              "      <th>665</th>\n",
              "      <td>Yelahanka</td>\n",
              "      <td>3 BHK</td>\n",
              "      <td>35000.0</td>\n",
              "      <td>3.0</td>\n",
              "      <td>130.0</td>\n",
              "      <td>3</td>\n",
              "      <td>371</td>\n",
              "    </tr>\n",
              "    <tr>\n",
              "      <th>798</th>\n",
              "      <td>other</td>\n",
              "      <td>4 Bedroom</td>\n",
              "      <td>10961.0</td>\n",
              "      <td>4.0</td>\n",
              "      <td>80.0</td>\n",
              "      <td>4</td>\n",
              "      <td>729</td>\n",
              "    </tr>\n",
              "    <tr>\n",
              "      <th>1005</th>\n",
              "      <td>other</td>\n",
              "      <td>1 BHK</td>\n",
              "      <td>15.0</td>\n",
              "      <td>1.0</td>\n",
              "      <td>30.0</td>\n",
              "      <td>1</td>\n",
              "      <td>200000</td>\n",
              "    </tr>\n",
              "    <tr>\n",
              "      <th>1106</th>\n",
              "      <td>other</td>\n",
              "      <td>5 Bedroom</td>\n",
              "      <td>24.0</td>\n",
              "      <td>2.0</td>\n",
              "      <td>150.0</td>\n",
              "      <td>5</td>\n",
              "      <td>625000</td>\n",
              "    </tr>\n",
              "    <tr>\n",
              "      <th>1867</th>\n",
              "      <td>other</td>\n",
              "      <td>3 Bedroom</td>\n",
              "      <td>52272.0</td>\n",
              "      <td>2.0</td>\n",
              "      <td>140.0</td>\n",
              "      <td>3</td>\n",
              "      <td>267</td>\n",
              "    </tr>\n",
              "    <tr>\n",
              "      <th>2392</th>\n",
              "      <td>other</td>\n",
              "      <td>4 Bedroom</td>\n",
              "      <td>2000.0</td>\n",
              "      <td>3.0</td>\n",
              "      <td>25.0</td>\n",
              "      <td>4</td>\n",
              "      <td>1250</td>\n",
              "    </tr>\n",
              "    <tr>\n",
              "      <th>3934</th>\n",
              "      <td>other</td>\n",
              "      <td>1 BHK</td>\n",
              "      <td>1500.0</td>\n",
              "      <td>1.0</td>\n",
              "      <td>19.5</td>\n",
              "      <td>1</td>\n",
              "      <td>1300</td>\n",
              "    </tr>\n",
              "    <tr>\n",
              "      <th>4044</th>\n",
              "      <td>Sarjapur  Road</td>\n",
              "      <td>4 Bedroom</td>\n",
              "      <td>1.0</td>\n",
              "      <td>4.0</td>\n",
              "      <td>120.0</td>\n",
              "      <td>4</td>\n",
              "      <td>12000000</td>\n",
              "    </tr>\n",
              "    <tr>\n",
              "      <th>4924</th>\n",
              "      <td>other</td>\n",
              "      <td>7 BHK</td>\n",
              "      <td>5.0</td>\n",
              "      <td>7.0</td>\n",
              "      <td>115.0</td>\n",
              "      <td>7</td>\n",
              "      <td>2300000</td>\n",
              "    </tr>\n",
              "    <tr>\n",
              "      <th>5343</th>\n",
              "      <td>other</td>\n",
              "      <td>9 BHK</td>\n",
              "      <td>42000.0</td>\n",
              "      <td>8.0</td>\n",
              "      <td>175.0</td>\n",
              "      <td>9</td>\n",
              "      <td>416</td>\n",
              "    </tr>\n",
              "    <tr>\n",
              "      <th>5417</th>\n",
              "      <td>Ulsoor</td>\n",
              "      <td>4 BHK</td>\n",
              "      <td>36000.0</td>\n",
              "      <td>4.0</td>\n",
              "      <td>450.0</td>\n",
              "      <td>4</td>\n",
              "      <td>1250</td>\n",
              "    </tr>\n",
              "    <tr>\n",
              "      <th>5597</th>\n",
              "      <td>JP Nagar</td>\n",
              "      <td>2 BHK</td>\n",
              "      <td>1100.0</td>\n",
              "      <td>1.0</td>\n",
              "      <td>15.0</td>\n",
              "      <td>2</td>\n",
              "      <td>1363</td>\n",
              "    </tr>\n",
              "    <tr>\n",
              "      <th>5911</th>\n",
              "      <td>Mysore Road</td>\n",
              "      <td>1 Bedroom</td>\n",
              "      <td>45.0</td>\n",
              "      <td>1.0</td>\n",
              "      <td>23.0</td>\n",
              "      <td>1</td>\n",
              "      <td>51111</td>\n",
              "    </tr>\n",
              "    <tr>\n",
              "      <th>6356</th>\n",
              "      <td>Bommenahalli</td>\n",
              "      <td>4 Bedroom</td>\n",
              "      <td>2940.0</td>\n",
              "      <td>3.0</td>\n",
              "      <td>2250.0</td>\n",
              "      <td>4</td>\n",
              "      <td>76530</td>\n",
              "    </tr>\n",
              "    <tr>\n",
              "      <th>7012</th>\n",
              "      <td>other</td>\n",
              "      <td>1 BHK</td>\n",
              "      <td>650.0</td>\n",
              "      <td>1.0</td>\n",
              "      <td>500.0</td>\n",
              "      <td>1</td>\n",
              "      <td>76923</td>\n",
              "    </tr>\n",
              "    <tr>\n",
              "      <th>7166</th>\n",
              "      <td>Yelahanka</td>\n",
              "      <td>1 Bedroom</td>\n",
              "      <td>26136.0</td>\n",
              "      <td>1.0</td>\n",
              "      <td>150.0</td>\n",
              "      <td>1</td>\n",
              "      <td>573</td>\n",
              "    </tr>\n",
              "    <tr>\n",
              "      <th>7575</th>\n",
              "      <td>other</td>\n",
              "      <td>1 BHK</td>\n",
              "      <td>425.0</td>\n",
              "      <td>1.0</td>\n",
              "      <td>750.0</td>\n",
              "      <td>1</td>\n",
              "      <td>176470</td>\n",
              "    </tr>\n",
              "    <tr>\n",
              "      <th>7799</th>\n",
              "      <td>other</td>\n",
              "      <td>4 BHK</td>\n",
              "      <td>2000.0</td>\n",
              "      <td>3.0</td>\n",
              "      <td>1063.0</td>\n",
              "      <td>4</td>\n",
              "      <td>53150</td>\n",
              "    </tr>\n",
              "    <tr>\n",
              "      <th>7862</th>\n",
              "      <td>JP Nagar</td>\n",
              "      <td>3 BHK</td>\n",
              "      <td>20000.0</td>\n",
              "      <td>3.0</td>\n",
              "      <td>175.0</td>\n",
              "      <td>3</td>\n",
              "      <td>875</td>\n",
              "    </tr>\n",
              "    <tr>\n",
              "      <th>8300</th>\n",
              "      <td>Kengeri</td>\n",
              "      <td>1 BHK</td>\n",
              "      <td>1200.0</td>\n",
              "      <td>1.0</td>\n",
              "      <td>14.0</td>\n",
              "      <td>1</td>\n",
              "      <td>1166</td>\n",
              "    </tr>\n",
              "    <tr>\n",
              "      <th>8307</th>\n",
              "      <td>Bannerghatta Road</td>\n",
              "      <td>5 BHK</td>\n",
              "      <td>2500.0</td>\n",
              "      <td>4.0</td>\n",
              "      <td>1400.0</td>\n",
              "      <td>5</td>\n",
              "      <td>56000</td>\n",
              "    </tr>\n",
              "    <tr>\n",
              "      <th>9144</th>\n",
              "      <td>other</td>\n",
              "      <td>4 Bedroom</td>\n",
              "      <td>10961.0</td>\n",
              "      <td>4.0</td>\n",
              "      <td>80.0</td>\n",
              "      <td>4</td>\n",
              "      <td>729</td>\n",
              "    </tr>\n",
              "    <tr>\n",
              "      <th>9436</th>\n",
              "      <td>Indira Nagar</td>\n",
              "      <td>4 Bedroom</td>\n",
              "      <td>2400.0</td>\n",
              "      <td>5.0</td>\n",
              "      <td>1250.0</td>\n",
              "      <td>4</td>\n",
              "      <td>52083</td>\n",
              "    </tr>\n",
              "    <tr>\n",
              "      <th>11447</th>\n",
              "      <td>Whitefield</td>\n",
              "      <td>4 Bedroom</td>\n",
              "      <td>60.0</td>\n",
              "      <td>4.0</td>\n",
              "      <td>218.0</td>\n",
              "      <td>4</td>\n",
              "      <td>363333</td>\n",
              "    </tr>\n",
              "    <tr>\n",
              "      <th>11635</th>\n",
              "      <td>Begur</td>\n",
              "      <td>3 BHK</td>\n",
              "      <td>2400.0</td>\n",
              "      <td>3.0</td>\n",
              "      <td>12.0</td>\n",
              "      <td>3</td>\n",
              "      <td>500</td>\n",
              "    </tr>\n",
              "    <tr>\n",
              "      <th>12328</th>\n",
              "      <td>other</td>\n",
              "      <td>4 Bedroom</td>\n",
              "      <td>4350.0</td>\n",
              "      <td>8.0</td>\n",
              "      <td>2600.0</td>\n",
              "      <td>4</td>\n",
              "      <td>59770</td>\n",
              "    </tr>\n",
              "    <tr>\n",
              "      <th>12355</th>\n",
              "      <td>other</td>\n",
              "      <td>4 BHK</td>\n",
              "      <td>16335.0</td>\n",
              "      <td>4.0</td>\n",
              "      <td>149.0</td>\n",
              "      <td>4</td>\n",
              "      <td>912</td>\n",
              "    </tr>\n",
              "  </tbody>\n",
              "</table>\n",
              "</div>"
            ],
            "text/plain": [
              "                location       size  total_sqft  ...   price  bhk  price_per_sqft\n",
              "345                other  3 Bedroom        11.0  ...    74.0    3          672727\n",
              "665            Yelahanka      3 BHK     35000.0  ...   130.0    3             371\n",
              "798                other  4 Bedroom     10961.0  ...    80.0    4             729\n",
              "1005               other      1 BHK        15.0  ...    30.0    1          200000\n",
              "1106               other  5 Bedroom        24.0  ...   150.0    5          625000\n",
              "1867               other  3 Bedroom     52272.0  ...   140.0    3             267\n",
              "2392               other  4 Bedroom      2000.0  ...    25.0    4            1250\n",
              "3934               other      1 BHK      1500.0  ...    19.5    1            1300\n",
              "4044      Sarjapur  Road  4 Bedroom         1.0  ...   120.0    4        12000000\n",
              "4924               other      7 BHK         5.0  ...   115.0    7         2300000\n",
              "5343               other      9 BHK     42000.0  ...   175.0    9             416\n",
              "5417              Ulsoor      4 BHK     36000.0  ...   450.0    4            1250\n",
              "5597            JP Nagar      2 BHK      1100.0  ...    15.0    2            1363\n",
              "5911         Mysore Road  1 Bedroom        45.0  ...    23.0    1           51111\n",
              "6356        Bommenahalli  4 Bedroom      2940.0  ...  2250.0    4           76530\n",
              "7012               other      1 BHK       650.0  ...   500.0    1           76923\n",
              "7166           Yelahanka  1 Bedroom     26136.0  ...   150.0    1             573\n",
              "7575               other      1 BHK       425.0  ...   750.0    1          176470\n",
              "7799               other      4 BHK      2000.0  ...  1063.0    4           53150\n",
              "7862            JP Nagar      3 BHK     20000.0  ...   175.0    3             875\n",
              "8300             Kengeri      1 BHK      1200.0  ...    14.0    1            1166\n",
              "8307   Bannerghatta Road      5 BHK      2500.0  ...  1400.0    5           56000\n",
              "9144               other  4 Bedroom     10961.0  ...    80.0    4             729\n",
              "9436        Indira Nagar  4 Bedroom      2400.0  ...  1250.0    4           52083\n",
              "11447         Whitefield  4 Bedroom        60.0  ...   218.0    4          363333\n",
              "11635              Begur      3 BHK      2400.0  ...    12.0    3             500\n",
              "12328              other  4 Bedroom      4350.0  ...  2600.0    4           59770\n",
              "12355              other      4 BHK     16335.0  ...   149.0    4             912\n",
              "\n",
              "[28 rows x 7 columns]"
            ]
          },
          "metadata": {},
          "execution_count": 30
        }
      ]
    },
    {
      "cell_type": "markdown",
      "metadata": {
        "id": "d58kRZ8NNoMg"
      },
      "source": [
        "\n",
        "Above shows properties that has price_per_sqft value such as 500 rs which is very very low for the city of banglore. You would be very lucky if you can find such as property :) Also we have properties that has price per sqft value such as 12000000 which is way too high. It seems almost impossible and even if it is legitimate it can help data analysis process if we remove such a data point"
      ]
    },
    {
      "cell_type": "code",
      "metadata": {
        "colab": {
          "base_uri": "https://localhost:8080/"
        },
        "id": "VmQLjgMtNVlR",
        "outputId": "baee1a6a-e16d-49fe-e8c3-2d86662f5b29"
      },
      "source": [
        "df2 = df[(df.price_per_sqft > lower_limit) & (df.price_per_sqft < upper_limit)]\n",
        "df2.shape"
      ],
      "execution_count": 31,
      "outputs": [
        {
          "output_type": "execute_result",
          "data": {
            "text/plain": [
              "(13172, 7)"
            ]
          },
          "metadata": {},
          "execution_count": 31
        }
      ]
    },
    {
      "cell_type": "markdown",
      "metadata": {
        "id": "uIKE8h8XOMo5"
      },
      "source": [
        "## Outlier removal using standard deviation\n",
        "Now we remove outliers which are more than 4 standard deviation from the mean"
      ]
    },
    {
      "cell_type": "code",
      "metadata": {
        "colab": {
          "base_uri": "https://localhost:8080/"
        },
        "id": "nISMIVN6OGhx",
        "outputId": "d769bb03-a5b0-4671-d80d-6123cd29a56e"
      },
      "source": [
        "# mean of column price_per_sqft\n",
        "mean = df2.price_per_sqft.mean()\n",
        "mean"
      ],
      "execution_count": 34,
      "outputs": [
        {
          "output_type": "execute_result",
          "data": {
            "text/plain": [
              "6663.6537351958705"
            ]
          },
          "metadata": {},
          "execution_count": 34
        }
      ]
    },
    {
      "cell_type": "code",
      "metadata": {
        "colab": {
          "base_uri": "https://localhost:8080/"
        },
        "id": "ZtKaPZ-0O_D6",
        "outputId": "25c04ca0-89e5-4771-ef91-a0af678512d3"
      },
      "source": [
        "std_dev = df2.price_per_sqft.std()\n",
        "std_dev"
      ],
      "execution_count": 35,
      "outputs": [
        {
          "output_type": "execute_result",
          "data": {
            "text/plain": [
              "4141.020700174605"
            ]
          },
          "metadata": {},
          "execution_count": 35
        }
      ]
    },
    {
      "cell_type": "code",
      "metadata": {
        "colab": {
          "base_uri": "https://localhost:8080/"
        },
        "id": "b8lBHJI3PXGp",
        "outputId": "1980017b-0902-4be0-800d-ae87e134b059"
      },
      "source": [
        "max_limit = mean + 4*std_dev\n",
        "min_limit = mean - 4*std_dev\n",
        "max_limit, min_limit"
      ],
      "execution_count": 37,
      "outputs": [
        {
          "output_type": "execute_result",
          "data": {
            "text/plain": [
              "(23227.73653589429, -9900.429065502549)"
            ]
          },
          "metadata": {},
          "execution_count": 37
        }
      ]
    },
    {
      "cell_type": "code",
      "metadata": {
        "colab": {
          "base_uri": "https://localhost:8080/",
          "height": 417
        },
        "id": "cIecmnTbQOz6",
        "outputId": "2ba01a0e-c15c-4d6b-fe0a-5a1ef47576e1"
      },
      "source": [
        "df2[(df2.price_per_sqft < min_limit) | (df2.price_per_sqft > max_limit)]"
      ],
      "execution_count": 38,
      "outputs": [
        {
          "output_type": "execute_result",
          "data": {
            "text/html": [
              "<div>\n",
              "<style scoped>\n",
              "    .dataframe tbody tr th:only-of-type {\n",
              "        vertical-align: middle;\n",
              "    }\n",
              "\n",
              "    .dataframe tbody tr th {\n",
              "        vertical-align: top;\n",
              "    }\n",
              "\n",
              "    .dataframe thead th {\n",
              "        text-align: right;\n",
              "    }\n",
              "</style>\n",
              "<table border=\"1\" class=\"dataframe\">\n",
              "  <thead>\n",
              "    <tr style=\"text-align: right;\">\n",
              "      <th></th>\n",
              "      <th>location</th>\n",
              "      <th>size</th>\n",
              "      <th>total_sqft</th>\n",
              "      <th>bath</th>\n",
              "      <th>price</th>\n",
              "      <th>bhk</th>\n",
              "      <th>price_per_sqft</th>\n",
              "    </tr>\n",
              "  </thead>\n",
              "  <tbody>\n",
              "    <tr>\n",
              "      <th>9</th>\n",
              "      <td>other</td>\n",
              "      <td>6 Bedroom</td>\n",
              "      <td>1020.0</td>\n",
              "      <td>6.0</td>\n",
              "      <td>370.0</td>\n",
              "      <td>6</td>\n",
              "      <td>36274</td>\n",
              "    </tr>\n",
              "    <tr>\n",
              "      <th>45</th>\n",
              "      <td>HSR Layout</td>\n",
              "      <td>8 Bedroom</td>\n",
              "      <td>600.0</td>\n",
              "      <td>9.0</td>\n",
              "      <td>200.0</td>\n",
              "      <td>8</td>\n",
              "      <td>33333</td>\n",
              "    </tr>\n",
              "    <tr>\n",
              "      <th>190</th>\n",
              "      <td>Bellandur</td>\n",
              "      <td>4 Bedroom</td>\n",
              "      <td>1200.0</td>\n",
              "      <td>5.0</td>\n",
              "      <td>325.0</td>\n",
              "      <td>4</td>\n",
              "      <td>27083</td>\n",
              "    </tr>\n",
              "    <tr>\n",
              "      <th>733</th>\n",
              "      <td>Cunningham Road</td>\n",
              "      <td>4 BHK</td>\n",
              "      <td>5270.0</td>\n",
              "      <td>4.0</td>\n",
              "      <td>1250.0</td>\n",
              "      <td>4</td>\n",
              "      <td>23719</td>\n",
              "    </tr>\n",
              "    <tr>\n",
              "      <th>760</th>\n",
              "      <td>other</td>\n",
              "      <td>9 Bedroom</td>\n",
              "      <td>600.0</td>\n",
              "      <td>9.0</td>\n",
              "      <td>190.0</td>\n",
              "      <td>9</td>\n",
              "      <td>31666</td>\n",
              "    </tr>\n",
              "    <tr>\n",
              "      <th>...</th>\n",
              "      <td>...</td>\n",
              "      <td>...</td>\n",
              "      <td>...</td>\n",
              "      <td>...</td>\n",
              "      <td>...</td>\n",
              "      <td>...</td>\n",
              "      <td>...</td>\n",
              "    </tr>\n",
              "    <tr>\n",
              "      <th>13081</th>\n",
              "      <td>other</td>\n",
              "      <td>6 Bedroom</td>\n",
              "      <td>8000.0</td>\n",
              "      <td>6.0</td>\n",
              "      <td>2800.0</td>\n",
              "      <td>6</td>\n",
              "      <td>35000</td>\n",
              "    </tr>\n",
              "    <tr>\n",
              "      <th>13094</th>\n",
              "      <td>other</td>\n",
              "      <td>4 Bedroom</td>\n",
              "      <td>1200.0</td>\n",
              "      <td>5.0</td>\n",
              "      <td>325.0</td>\n",
              "      <td>4</td>\n",
              "      <td>27083</td>\n",
              "    </tr>\n",
              "    <tr>\n",
              "      <th>13127</th>\n",
              "      <td>other</td>\n",
              "      <td>4 Bedroom</td>\n",
              "      <td>1200.0</td>\n",
              "      <td>5.0</td>\n",
              "      <td>325.0</td>\n",
              "      <td>4</td>\n",
              "      <td>27083</td>\n",
              "    </tr>\n",
              "    <tr>\n",
              "      <th>13185</th>\n",
              "      <td>Hulimavu</td>\n",
              "      <td>1 BHK</td>\n",
              "      <td>500.0</td>\n",
              "      <td>1.0</td>\n",
              "      <td>220.0</td>\n",
              "      <td>1</td>\n",
              "      <td>44000</td>\n",
              "    </tr>\n",
              "    <tr>\n",
              "      <th>13186</th>\n",
              "      <td>other</td>\n",
              "      <td>4 Bedroom</td>\n",
              "      <td>1200.0</td>\n",
              "      <td>5.0</td>\n",
              "      <td>325.0</td>\n",
              "      <td>4</td>\n",
              "      <td>27083</td>\n",
              "    </tr>\n",
              "  </tbody>\n",
              "</table>\n",
              "<p>125 rows × 7 columns</p>\n",
              "</div>"
            ],
            "text/plain": [
              "              location       size  total_sqft  ...   price  bhk  price_per_sqft\n",
              "9                other  6 Bedroom      1020.0  ...   370.0    6           36274\n",
              "45          HSR Layout  8 Bedroom       600.0  ...   200.0    8           33333\n",
              "190          Bellandur  4 Bedroom      1200.0  ...   325.0    4           27083\n",
              "733    Cunningham Road      4 BHK      5270.0  ...  1250.0    4           23719\n",
              "760              other  9 Bedroom       600.0  ...   190.0    9           31666\n",
              "...                ...        ...         ...  ...     ...  ...             ...\n",
              "13081            other  6 Bedroom      8000.0  ...  2800.0    6           35000\n",
              "13094            other  4 Bedroom      1200.0  ...   325.0    4           27083\n",
              "13127            other  4 Bedroom      1200.0  ...   325.0    4           27083\n",
              "13185         Hulimavu      1 BHK       500.0  ...   220.0    1           44000\n",
              "13186            other  4 Bedroom      1200.0  ...   325.0    4           27083\n",
              "\n",
              "[125 rows x 7 columns]"
            ]
          },
          "metadata": {},
          "execution_count": 38
        }
      ]
    },
    {
      "cell_type": "code",
      "metadata": {
        "colab": {
          "base_uri": "https://localhost:8080/"
        },
        "id": "T_c7OOZSRF8i",
        "outputId": "cf950f55-e20a-4017-dfe1-660db1290aff"
      },
      "source": [
        "df_no_outliers = df2[(df2.price_per_sqft > min_limit) & (df2.price_per_sqft < max_limit)]\n",
        "df_no_outliers.shape"
      ],
      "execution_count": 40,
      "outputs": [
        {
          "output_type": "execute_result",
          "data": {
            "text/plain": [
              "(13047, 7)"
            ]
          },
          "metadata": {},
          "execution_count": 40
        }
      ]
    },
    {
      "cell_type": "code",
      "metadata": {
        "colab": {
          "base_uri": "https://localhost:8080/",
          "height": 296
        },
        "id": "wRZX5OAYRlHC",
        "outputId": "87931e00-d40f-4546-d74e-0851bd866990"
      },
      "source": [
        "plt.hist(df_no_outliers.price_per_sqft, bins=20)\n",
        "plt.xlabel('price per sqft')\n",
        "plt.ylabel('count')"
      ],
      "execution_count": 42,
      "outputs": [
        {
          "output_type": "execute_result",
          "data": {
            "text/plain": [
              "Text(0, 0.5, 'count')"
            ]
          },
          "metadata": {},
          "execution_count": 42
        },
        {
          "output_type": "display_data",
          "data": {
            "image/png": "[encoded data removed]",
            "text/plain": [
              "<Figure size 432x288 with 1 Axes>"
            ]
          },
          "metadata": {
            "needs_background": "light"
          }
        }
      ]
    },
    {
      "cell_type": "code",
      "metadata": {
        "id": "SK9ZILzySVL5"
      },
      "source": [
        ""
      ],
      "execution_count": null,
      "outputs": []
    }
  ]
}